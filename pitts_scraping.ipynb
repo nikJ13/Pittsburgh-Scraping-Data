{
 "cells": [
  {
   "cell_type": "code",
   "execution_count": 32,
   "metadata": {},
   "outputs": [],
   "source": [
    "from homeharvest import scrape_property\n",
    "from datetime import datetime\n",
    "import pandas as pd\n",
    "from math import radians, cos, sin, asin, sqrt"
   ]
  },
  {
   "cell_type": "code",
   "execution_count": 2,
   "metadata": {},
   "outputs": [],
   "source": [
    "pd.set_option('display.max_columns', None)  # Show all columns\n",
    "pd.set_option('display.max_rows', None)     # Show all rows\n",
    "pd.set_option('display.width', None)        # Auto-adjust display width to fit console\n",
    "pd.set_option('display.max_colwidth', 50)   # Limit max column width to 50 characters"
   ]
  },
  {
   "cell_type": "code",
   "execution_count": 18,
   "metadata": {},
   "outputs": [],
   "source": [
    "# Generate filename based on current timestamp\n",
    "current_timestamp = datetime.now().strftime(\"%Y%m%d_%H%M%S\")\n",
    "filename = f\"D:/Niket/HomeHarvest_{current_timestamp}_2.csv\""
   ]
  },
  {
   "cell_type": "code",
   "execution_count": null,
   "metadata": {},
   "outputs": [],
   "source": [
    "properties = scrape_property(\n",
    "  location=\"shadyside, pittsburgh, PA\",\n",
    "  listing_type=\"for_rent\"  # or (for_sale, for_rent, pending)\n",
    "  #past_days=30,  # sold in last 30 days - listed in last 30 days if (for_sale, for_rent)\n",
    "  \n",
    "  # date_from=\"2023-05-01\", # alternative to past_days \n",
    "  # date_to=\"2023-05-28\", \n",
    "  # foreclosure=True\n",
    "  \n",
    "  # mls_only=True,  # only fetch MLS listings\n",
    ")\n",
    "display(properties)"
   ]
  },
  {
   "cell_type": "code",
   "execution_count": null,
   "metadata": {},
   "outputs": [],
   "source": [
    "from IPython.display import display, HTML\n",
    "properties['property_url'] = '<a href=\"' + properties['property_url'] + '\" target=\"_blank\">' + properties['property_url'] + '</a>'\n",
    "\n",
    "html = properties.to_html(escape=False)\n",
    "truncate_width = f'<style>.dataframe td {{ max-width: 200px; overflow: hidden; text-overflow: ellipsis; white-space: nowrap; }}</style>{html}'\n",
    "display(HTML(truncate_width))"
   ]
  },
  {
   "cell_type": "code",
   "execution_count": 20,
   "metadata": {},
   "outputs": [],
   "source": [
    "properties_cmu = scrape_property(\n",
    "  location=\"carnegie mellon university\",\n",
    "  listing_type=\"for_rent\",\n",
    "  radius = 3  # or (for_sale, for_rent, pending)\n",
    "  #past_days=30,  # sold in last 30 days - listed in last 30 days if (for_sale, for_rent)\n",
    "  \n",
    "  # date_from=\"2023-05-01\", # alternative to past_days \n",
    "  # date_to=\"2023-05-28\", \n",
    "  # foreclosure=True\n",
    "  \n",
    "  # mls_only=True,  # only fetch MLS listings\n",
    ")\n",
    "#display(properties)"
   ]
  },
  {
   "cell_type": "code",
   "execution_count": 17,
   "metadata": {},
   "outputs": [
    {
     "name": "stdout",
     "output_type": "stream",
     "text": [
      "<class 'pandas.core.frame.DataFrame'>\n"
     ]
    }
   ],
   "source": [
    "print(type(properties_cmu))"
   ]
  },
  {
   "cell_type": "code",
   "execution_count": null,
   "metadata": {},
   "outputs": [],
   "source": [
    "properties_cmu['property_url'] = '<a href=\"' + properties_cmu['property_url'] + '\" target=\"_blank\">' + properties_cmu['property_url'] + '</a>'\n",
    "\n",
    "html = properties_cmu.to_html(escape=False)\n",
    "truncate_width = f'<style>.dataframe td {{ max-width: 200px; overflow: hidden; text-overflow: ellipsis; white-space: nowrap; }}</style>{html}'\n",
    "display(HTML(truncate_width))"
   ]
  },
  {
   "cell_type": "code",
   "execution_count": 16,
   "metadata": {},
   "outputs": [
    {
     "name": "stdout",
     "output_type": "stream",
     "text": [
      "                                        property_url   mls   mls_id    status  \\\n",
      "0  https://www.realtor.com/realestateandhomes-det...  PPPA  1646288  FOR_RENT   \n",
      "1  https://www.realtor.com/realestateandhomes-det...  TRBO  1439210  FOR_RENT   \n",
      "2  https://www.realtor.com/realestateandhomes-det...  TRBO  1173412  FOR_RENT   \n",
      "3  https://www.realtor.com/realestateandhomes-det...  RNTR  9042513  FOR_RENT   \n",
      "4  https://www.realtor.com/realestateandhomes-det...  PPPA  1646235  FOR_RENT   \n",
      "\n",
      "                        style                   street     unit        city  \\\n",
      "0         PropertyType.CONDOS      1700  Grandview Ave  Apt 703  Pittsburgh   \n",
      "1         PropertyType.CONDOS        908  Bryn Mawr Rd    Apt 3  Pittsburgh   \n",
      "2  PropertyType.SINGLE_FAMILY        3147  Brighton Rd     None  Pittsburgh   \n",
      "3      PropertyType.APARTMENT     2425  Beechwood Blvd   Unit 1  Pittsburgh   \n",
      "4         PropertyType.CONDOS  320  Fort Duquesne Blvd  Apt 26O  Pittsburgh   \n",
      "\n",
      "  state zip_code beds full_baths half_baths  sqft year_built days_on_mls  \\\n",
      "0    PA    15211    3          2          1  3000       1986           0   \n",
      "1    PA    15219    3          1       None  None       None           1   \n",
      "2    PA    15212    2          1       None  1500       1900           1   \n",
      "3    PA    15217    2          1       None  1248       1920           1   \n",
      "4    PA    15222    1          1       None   647       1964           1   \n",
      "\n",
      "  list_price   list_date sold_price last_sold_date lot_sqft price_per_sqft  \\\n",
      "0       None  2024-03-28     375000     2000-12-20     None           None   \n",
      "1       1900  2024-03-27       None           None     None           None   \n",
      "2        950  2024-03-27      15000     2017-11-02     None              1   \n",
      "3       1900  2024-03-27       None           None     None              2   \n",
      "4     229000  2024-03-27      75000     2009-04-06     None            354   \n",
      "\n",
      "    latitude  longitude stories hoa_fee parking_garage  \\\n",
      "0  40.440832 -80.025037    None    None           None   \n",
      "1  40.451721 -79.958534    None    None           None   \n",
      "2  40.474989 -80.030124    None    None           None   \n",
      "3  40.431774 -79.914856    None    None           None   \n",
      "4  40.442394 -80.006581    None    None           None   \n",
      "\n",
      "                                       primary_photo  \\\n",
      "0  http://ap.rdcpix.com/75e3f4d7ac047ebd608845915...   \n",
      "1  http://ap.rdcpix.com/7698e037b064f3855b6bf872a...   \n",
      "2  http://ap.rdcpix.com/2a54a6d48463e59f786e1726f...   \n",
      "3  http://ap.rdcpix.com/df97f09a87674fdfe63d7096c...   \n",
      "4  http://ap.rdcpix.com/ad6f3988977582d1cff6076f8...   \n",
      "\n",
      "                                          alt_photos  \n",
      "0  http://ap.rdcpix.com/75e3f4d7ac047ebd608845915...  \n",
      "1  http://ap.rdcpix.com/7698e037b064f3855b6bf872a...  \n",
      "2  http://ap.rdcpix.com/2a54a6d48463e59f786e1726f...  \n",
      "3  http://ap.rdcpix.com/df97f09a87674fdfe63d7096c...  \n",
      "4  http://ap.rdcpix.com/ad6f3988977582d1cff6076f8...  \n"
     ]
    }
   ],
   "source": [
    "properties_cmu.to_csv(filename,index = False)\n",
    "print(properties_cmu.head())"
   ]
  },
  {
   "cell_type": "code",
   "execution_count": null,
   "metadata": {},
   "outputs": [],
   "source": [
    "filtered_properties_shadyside = properties_cmu[(properties_cmu['zip_code']=='15206')|(properties_cmu['zip_code']=='15213')|(properties_cmu['zip_code']=='15232')]\n",
    "filtered_properties_shadyside"
   ]
  },
  {
   "cell_type": "code",
   "execution_count": 26,
   "metadata": {},
   "outputs": [
    {
     "name": "stdout",
     "output_type": "stream",
     "text": [
      "                                         property_url   mls    mls_id  \\\n",
      "12  https://www.realtor.com/realestateandhomes-det...  AVAL  60304868   \n",
      "14  https://www.realtor.com/realestateandhomes-det...  AVAL  60970384   \n",
      "16  https://www.realtor.com/realestateandhomes-det...  AVAL  61041877   \n",
      "20  https://www.realtor.com/realestateandhomes-det...  RLXB   6441990   \n",
      "21  https://www.realtor.com/realestateandhomes-det...  RLXB   5680101   \n",
      "\n",
      "      status                   style               street     unit  \\\n",
      "12  FOR_RENT  PropertyType.APARTMENT       260  Shady Ave   Apt 10   \n",
      "14  FOR_RENT  PropertyType.APARTMENT    5432  Stanton Ave  Unit 1F   \n",
      "16  FOR_RENT  PropertyType.APARTMENT       265  Shady Ave   Apt 11   \n",
      "20  FOR_RENT  PropertyType.APARTMENT      732  Filbert St     None   \n",
      "21  FOR_RENT  PropertyType.APARTMENT  5806  Ellsworth Ave     None   \n",
      "\n",
      "          city state zip_code  beds full_baths half_baths  sqft year_built  \\\n",
      "12  Pittsburgh    PA    15206     1          1       None  None       None   \n",
      "14  Pittsburgh    PA    15206     2          1       None  None       None   \n",
      "16  Pittsburgh    PA    15206     1          1       None  None       None   \n",
      "20  Pittsburgh    PA    15232  None       None       None  None       None   \n",
      "21  Pittsburgh    PA    15232  None       None       None  None       None   \n",
      "\n",
      "   days_on_mls list_price   list_date sold_price last_sold_date lot_sqft  \\\n",
      "12           2       1265  2024-03-26       None           None     None   \n",
      "14           2       1600  2024-03-26       None           None     None   \n",
      "16           2       1285  2024-03-26       None           None     None   \n",
      "20           2       None  2024-03-26       None           None     None   \n",
      "21           2       None  2024-03-26       None           None     None   \n",
      "\n",
      "   price_per_sqft   latitude  longitude stories hoa_fee parking_garage  \\\n",
      "12           None  40.457687 -79.922623    None    None           None   \n",
      "14           None  40.472507 -79.929695    None    None           None   \n",
      "16           None  40.457382 -79.922142    None    None           None   \n",
      "20           None  40.451668 -79.933323    None    None           None   \n",
      "21           None  40.456137 -79.930370    None    None           None   \n",
      "\n",
      "                                        primary_photo  \\\n",
      "12  http://ap.rdcpix.com/3e089102efb391180acc41c5a...   \n",
      "14  http://ap.rdcpix.com/2f175c15850de68c14179d23e...   \n",
      "16  http://ap.rdcpix.com/78b5edad2336e973c0bd2e23e...   \n",
      "20  http://ar.rdcpix.com/f7817973975903a243e6d6e76...   \n",
      "21  http://ar.rdcpix.com/91fc261bcf3d27aee02819b54...   \n",
      "\n",
      "                                           alt_photos  \n",
      "12  http://ap.rdcpix.com/3e089102efb391180acc41c5a...  \n",
      "14  http://ap.rdcpix.com/2f175c15850de68c14179d23e...  \n",
      "16  http://ap.rdcpix.com/78b5edad2336e973c0bd2e23e...  \n",
      "20  http://ar.rdcpix.com/f7817973975903a243e6d6e76...  \n",
      "21  http://ar.rdcpix.com/91fc261bcf3d27aee02819b54...  \n"
     ]
    }
   ],
   "source": [
    "filtered_properties_shadyside.to_csv(filename,index = False)\n",
    "print(filtered_properties_shadyside.head())"
   ]
  },
  {
   "cell_type": "code",
   "execution_count": 28,
   "metadata": {},
   "outputs": [],
   "source": [
    "cmu_lat = 40.443798\n",
    "cmu_lon = -79.945321"
   ]
  },
  {
   "cell_type": "code",
   "execution_count": 34,
   "metadata": {},
   "outputs": [],
   "source": [
    "def haversine_distance(lat1, lon1, lat2, lon2):\n",
    "    \"\"\"\n",
    "    Calculate the great circle distance between two points\n",
    "    on the Earth's surface (specified in decimal degrees)\n",
    "    \"\"\"\n",
    "    # Convert decimal degrees to radians\n",
    "    lat1, lon1, lat2, lon2 = map(radians, [lat1, lon1, lat2, lon2])\n",
    "\n",
    "    # Haversine formula\n",
    "    dlon = lon2 - lon1\n",
    "    dlat = lat2 - lat1\n",
    "    a = sin(dlat/2)**2 + cos(lat1) * cos(lat2) * sin(dlon/2)**2\n",
    "    c = 2 * asin(sqrt(a))\n",
    "    r = 6371  # Radius of Earth in kilometers\n",
    "    return c * r"
   ]
  },
  {
   "cell_type": "code",
   "execution_count": 39,
   "metadata": {},
   "outputs": [],
   "source": [
    "filtered_properties_shadyside['Distance_from_CMU'] = filtered_properties_shadyside.apply(lambda row: haversine_distance(row['latitude'], row['longitude'], cmu_lat, cmu_lon), axis=1)\n",
    "\n",
    "#sorting the entries by distance\n",
    "shadyside = filtered_properties_shadyside.sort_values(by='Distance_from_CMU')"
   ]
  },
  {
   "cell_type": "code",
   "execution_count": 40,
   "metadata": {},
   "outputs": [
    {
     "name": "stdout",
     "output_type": "stream",
     "text": [
      "                                           property_url   mls     mls_id  \\\n",
      "135   https://www.realtor.com/realestateandhomes-det...  RNTR    9023977   \n",
      "1315  https://www.realtor.com/realestateandhomes-det...  RENT  100029944   \n",
      "850   https://www.realtor.com/realestateandhomes-det...  ABOD       2268   \n",
      "845   https://www.realtor.com/realestateandhomes-det...  ABOD       2267   \n",
      "667   https://www.realtor.com/realestateandhomes-det...  ABOD    4656639   \n",
      "\n",
      "        status                       style           street  unit        city  \\\n",
      "135   FOR_RENT  PropertyType.SINGLE_FAMILY   3  Boundary St  None  Pittsburgh   \n",
      "1315  FOR_RENT      PropertyType.APARTMENT   135 N Craig St  None  Pittsburgh   \n",
      "850   FOR_RENT      PropertyType.APARTMENT   147 N Craig St  None  Pittsburgh   \n",
      "845   FOR_RENT      PropertyType.APARTMENT   151 N Craig St  None  Pittsburgh   \n",
      "667   FOR_RENT      PropertyType.APARTMENT  4628  Bayard St  None  Pittsburgh   \n",
      "\n",
      "     state zip_code  beds full_baths half_baths  sqft year_built days_on_mls  \\\n",
      "135     PA    15213     4          1       None  1200       1900          10   \n",
      "1315    PA    15213  None       None       None  None       None         400   \n",
      "850     PA    15213  None       None       None  None       None        None   \n",
      "845     PA    15213  None       None       None  None       None        None   \n",
      "667     PA    15213  None       None       None  None       None        None   \n",
      "\n",
      "     list_price   list_date sold_price last_sold_date lot_sqft price_per_sqft  \\\n",
      "135        3000  2024-03-18       5000     1994-11-10     None              3   \n",
      "1315       None  2023-02-22     500000     1984-10-31     None           None   \n",
      "850        None        None       None           None     None           None   \n",
      "845        None        None       None           None     None           None   \n",
      "667        None        None     340510     2015-05-27     None           None   \n",
      "\n",
      "       latitude  longitude stories hoa_fee parking_garage  \\\n",
      "135   40.440267 -79.950611    None    None           None   \n",
      "1315  40.448029 -79.950088    None    None           None   \n",
      "850   40.448720 -79.950513    None    None           None   \n",
      "845   40.449230 -79.950501    None    None           None   \n",
      "667   40.449828 -79.949377    None    None           None   \n",
      "\n",
      "                                          primary_photo  \\\n",
      "135   http://ap.rdcpix.com/2d9ef47871bbdf8e428fd512d...   \n",
      "1315  http://ar.rdcpix.com/733426e7b5ba2e7c1a8087ad7...   \n",
      "850   http://ar.rdcpix.com/8719a0c22f201938407964b92...   \n",
      "845   http://ar.rdcpix.com/5ea165b9924c52a276014b326...   \n",
      "667   http://ar.rdcpix.com/171a0922c659b0093b1ac3131...   \n",
      "\n",
      "                                             alt_photos  Distance_from_CMU  \n",
      "135   http://ap.rdcpix.com/2d9ef47871bbdf8e428fd512d...           0.595457  \n",
      "1315  http://ar.rdcpix.com/733426e7b5ba2e7c1a8087ad7...           0.619727  \n",
      "850   http://ar.rdcpix.com/8719a0c22f201938407964b92...           0.701833  \n",
      "845   http://ar.rdcpix.com/5ea165b9924c52a276014b326...           0.746302  \n",
      "667   http://ar.rdcpix.com/171a0922c659b0093b1ac3131...           0.753245  \n"
     ]
    }
   ],
   "source": [
    "filename2 = f\"D:/Niket/HomeHarvest_{current_timestamp}_3.csv\"\n",
    "shadyside.to_csv(filename2,index = False)\n",
    "print(shadyside.head())"
   ]
  },
  {
   "cell_type": "code",
   "execution_count": null,
   "metadata": {},
   "outputs": [],
   "source": []
  }
 ],
 "metadata": {
  "kernelspec": {
   "display_name": "side_proj",
   "language": "python",
   "name": "python3"
  },
  "language_info": {
   "codemirror_mode": {
    "name": "ipython",
    "version": 3
   },
   "file_extension": ".py",
   "mimetype": "text/x-python",
   "name": "python",
   "nbconvert_exporter": "python",
   "pygments_lexer": "ipython3",
   "version": "3.12.2"
  }
 },
 "nbformat": 4,
 "nbformat_minor": 2
}
